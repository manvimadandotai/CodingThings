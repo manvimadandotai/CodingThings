{
 "cells": [
  {
   "cell_type": "code",
   "execution_count": 25,
   "metadata": {},
   "outputs": [
    {
     "name": "stdout",
     "output_type": "stream",
     "text": [
      "                                               data\n",
      "0                           dssmtmrkonedbbhdhjbf9hq\n",
      "1                    2njsevenszzsfltconesixhsflpbpd\n",
      "2                 6shgbprkpbksnfourfivemvncvg2eight\n",
      "3    eightseventhree7lfqpnclxnnineninemgkjtqksrdone\n",
      "4            bsxxzhkmmfcslmdhhrgf9seven665lsknmbpgj\n",
      "..                                              ...\n",
      "995                                   2eight8fmktlf\n",
      "996                vjchzt7btthreesix1tcngpbtzsfmvsx\n",
      "997                                            sjv8\n",
      "998     ncqpkzh5twooneoneqfxlqbjjhqsrlkhvdnvtbzpcbj\n",
      "999                                 449three45three\n",
      "\n",
      "[1000 rows x 1 columns]\n"
     ]
    }
   ],
   "source": [
    "import pandas as pd\n",
    "\n",
    "df = pd.read_csv(\"/workspaces/codespaces-jupyter/data/Day1.csv\")\n",
    "\n",
    "print(df)"
   ]
  },
  {
   "cell_type": "code",
   "execution_count": 26,
   "metadata": {},
   "outputs": [],
   "source": [
    "def first_last_digit(string):\n",
    "    #finding digits in the string\n",
    "    digits = [i for i in string if i.isdigit()]\n",
    "\n",
    "    #combining first and last digit\n",
    "    if digits:\n",
    "        concatenated = digits[0] + digits[-1]\n",
    "        return concatenated\n",
    "    else:\n",
    "        return 0\n"
   ]
  },
  {
   "cell_type": "code",
   "execution_count": 27,
   "metadata": {},
   "outputs": [],
   "source": [
    "df_function = df.apply(\n",
    "    lambda row: first_last_digit(row[0]),\n",
    "    axis=1\n",
    ")"
   ]
  },
  {
   "cell_type": "code",
   "execution_count": 29,
   "metadata": {},
   "outputs": [
    {
     "name": "stdout",
     "output_type": "stream",
     "text": [
      "0      99\n",
      "1      22\n",
      "2      62\n",
      "3      77\n",
      "4      95\n",
      "       ..\n",
      "995    28\n",
      "996    71\n",
      "997    88\n",
      "998    55\n",
      "999    45\n",
      "Length: 1000, dtype: object\n"
     ]
    }
   ],
   "source": [
    "print(df_function)"
   ]
  },
  {
   "cell_type": "code",
   "execution_count": null,
   "metadata": {},
   "outputs": [],
   "source": []
  },
  {
   "cell_type": "code",
   "execution_count": 31,
   "metadata": {},
   "outputs": [
    {
     "name": "stdout",
     "output_type": "stream",
     "text": [
      "int64\n"
     ]
    }
   ],
   "source": [
    "df_function = df_function.apply(pd.to_numeric)\n",
    "print(df_function.dtypes)"
   ]
  },
  {
   "cell_type": "code",
   "execution_count": 32,
   "metadata": {},
   "outputs": [
    {
     "name": "stdout",
     "output_type": "stream",
     "text": [
      "53921\n"
     ]
    }
   ],
   "source": [
    "# calculating sum\n",
    "df_sum = df_function.sum(axis=0)\n",
    "print(df_sum)"
   ]
  },
  {
   "cell_type": "markdown",
   "metadata": {},
   "source": [
    "Part 2"
   ]
  },
  {
   "cell_type": "code",
   "execution_count": 55,
   "metadata": {},
   "outputs": [],
   "source": [
    "#combined function\n",
    "\n",
    "def convert_text_to_number(text):\n",
    "    number_dict = {\"zero\": 0,\n",
    "                           \"one\": 1,\n",
    "                           \"two\": 2,\n",
    "                           \"three\": 3,\n",
    "                           \"four\": 4,\n",
    "                           \"five\": 5,\n",
    "                           \"six\": 6,\n",
    "                           \"seven\": 7,\n",
    "                           \"eight\": 8,\n",
    "                           \"nine\": 9}\n",
    "    \n",
    "    text_lower = text.lower()\n",
    "\n",
    "    if text_lower in number_dict:\n",
    "        return number_dict[text_lower]\n",
    "    else:\n",
    "        return None\n",
    "    \n",
    "    \n",
    "\n",
    "\n",
    "def combine_first_last(text):\n",
    "    #finding digits in the string\n",
    "    digits2 = [i for i in text if i.isdigit()]\n",
    "\n",
    "    #find first and last characters or convert text to number\n",
    "    if digits2:\n",
    "        first_digit = digits2[0]\n",
    "        last_digit = digits2[-1]\n",
    "\n",
    "        if text.isalpha():\n",
    "            first_number = convert_text_to_number(text[0])\n",
    "            last_number = convert_text_to_number(text[-1])\n",
    "\n",
    "            \n",
    "            if first_number is not None:\n",
    "                first_digit = first_number\n",
    "            if last_number is not None:\n",
    "                last_digit = last_number\n",
    "\n",
    "        return first_digit + last_digit \n",
    "    else:\n",
    "        return \"no digits found\"\n",
    "            \n",
    "            \n",
    "\n",
    "\n",
    "    \n"
   ]
  },
  {
   "cell_type": "code",
   "execution_count": 56,
   "metadata": {},
   "outputs": [],
   "source": [
    "df_function_2 = df.apply(\n",
    "    lambda row: combine_first_last(row[0]),\n",
    "    axis=1\n",
    ")"
   ]
  },
  {
   "cell_type": "code",
   "execution_count": 57,
   "metadata": {},
   "outputs": [
    {
     "name": "stdout",
     "output_type": "stream",
     "text": [
      "0      99\n",
      "1      22\n",
      "2      62\n",
      "3      77\n",
      "4      95\n",
      "       ..\n",
      "995    28\n",
      "996    71\n",
      "997    88\n",
      "998    55\n",
      "999    45\n",
      "Length: 1000, dtype: object\n"
     ]
    }
   ],
   "source": [
    "print(df_function_2)"
   ]
  },
  {
   "cell_type": "code",
   "execution_count": 58,
   "metadata": {},
   "outputs": [
    {
     "name": "stdout",
     "output_type": "stream",
     "text": [
      "int64\n"
     ]
    }
   ],
   "source": [
    "df_function_2 = df_function_2.apply(pd.to_numeric)\n",
    "print(df_function_2.dtypes)"
   ]
  },
  {
   "cell_type": "code",
   "execution_count": 59,
   "metadata": {},
   "outputs": [
    {
     "name": "stdout",
     "output_type": "stream",
     "text": [
      "53921\n"
     ]
    }
   ],
   "source": [
    "df_sum_2 = df_function_2.sum(axis=0)\n",
    "print(df_sum_2)"
   ]
  }
 ],
 "metadata": {
  "kernelspec": {
   "display_name": "Python 3",
   "language": "python",
   "name": "python3"
  },
  "language_info": {
   "codemirror_mode": {
    "name": "ipython",
    "version": 3
   },
   "file_extension": ".py",
   "mimetype": "text/x-python",
   "name": "python",
   "nbconvert_exporter": "python",
   "pygments_lexer": "ipython3",
   "version": "3.10.13"
  }
 },
 "nbformat": 4,
 "nbformat_minor": 2
}
