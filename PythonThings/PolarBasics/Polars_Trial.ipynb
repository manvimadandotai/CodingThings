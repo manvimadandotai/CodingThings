{
 "cells": [
  {
   "cell_type": "code",
   "execution_count": 1,
   "id": "05738cf8",
   "metadata": {},
   "outputs": [
    {
     "name": "stdout",
     "output_type": "stream",
     "text": [
      "Collecting polars\n",
      "  Downloading polars-1.33.1-cp39-abi3-manylinux_2_17_x86_64.manylinux2014_x86_64.whl (39.7 MB)\n",
      "\u001b[K     |████████████████████████████████| 39.7 MB 10.6 MB/s eta 0:00:01\n",
      "\u001b[?25hInstalling collected packages: polars\n",
      "Successfully installed polars-1.33.1\n"
     ]
    }
   ],
   "source": [
    "#!pip install polars"
   ]
  },
  {
   "cell_type": "code",
   "execution_count": 4,
   "id": "d4d18e8a",
   "metadata": {},
   "outputs": [],
   "source": [
    "import polars as pl\n",
    "from datetime import date"
   ]
  },
  {
   "cell_type": "code",
   "execution_count": 5,
   "id": "99749c83",
   "metadata": {},
   "outputs": [],
   "source": [
    "df1 = pl.DataFrame(\n",
    "\n",
    "    {\n",
    "\n",
    "        \"a\": [1, 2, 3],\n",
    "\n",
    "        \"b\": [\"zz\", \"yy\", \"xx\"],\n",
    "\n",
    "        \"c\": [date(1999, 12, 31), date(2010, 10, 10), date(2077, 8, 8)],\n",
    "\n",
    "    }\n",
    "\n",
    ")\n"
   ]
  },
  {
   "cell_type": "code",
   "execution_count": 6,
   "id": "768a9653",
   "metadata": {},
   "outputs": [
    {
     "data": {
      "text/html": [
       "<div><style>\n",
       ".dataframe > thead > tr,\n",
       ".dataframe > tbody > tr {\n",
       "  text-align: right;\n",
       "  white-space: pre-wrap;\n",
       "}\n",
       "</style>\n",
       "<small>shape: (3, 3)</small><table border=\"1\" class=\"dataframe\"><thead><tr><th>a</th><th>b</th><th>c</th></tr><tr><td>i64</td><td>str</td><td>date</td></tr></thead><tbody><tr><td>1</td><td>&quot;zz&quot;</td><td>1999-12-31</td></tr><tr><td>2</td><td>&quot;yy&quot;</td><td>2010-10-10</td></tr><tr><td>3</td><td>&quot;xx&quot;</td><td>2077-08-08</td></tr></tbody></table></div>"
      ],
      "text/plain": [
       "shape: (3, 3)\n",
       "┌─────┬─────┬────────────┐\n",
       "│ a   ┆ b   ┆ c          │\n",
       "│ --- ┆ --- ┆ ---        │\n",
       "│ i64 ┆ str ┆ date       │\n",
       "╞═════╪═════╪════════════╡\n",
       "│ 1   ┆ zz  ┆ 1999-12-31 │\n",
       "│ 2   ┆ yy  ┆ 2010-10-10 │\n",
       "│ 3   ┆ xx  ┆ 2077-08-08 │\n",
       "└─────┴─────┴────────────┘"
      ]
     },
     "execution_count": 6,
     "metadata": {},
     "output_type": "execute_result"
    }
   ],
   "source": [
    "df1.head()"
   ]
  },
  {
   "cell_type": "code",
   "execution_count": 7,
   "id": "87237385",
   "metadata": {},
   "outputs": [
    {
     "data": {
      "text/html": [
       "<div><style>\n",
       ".dataframe > thead > tr,\n",
       ".dataframe > tbody > tr {\n",
       "  text-align: right;\n",
       "  white-space: pre-wrap;\n",
       "}\n",
       "</style>\n",
       "<small>shape: (2, 2)</small><table border=\"1\" class=\"dataframe\"><thead><tr><th>c</th><th>b</th></tr><tr><td>date</td><td>str</td></tr></thead><tbody><tr><td>2010-10-10</td><td>&quot;yy&quot;</td></tr><tr><td>2077-08-08</td><td>&quot;xx&quot;</td></tr></tbody></table></div>"
      ],
      "text/plain": [
       "shape: (2, 2)\n",
       "┌────────────┬─────┐\n",
       "│ c          ┆ b   │\n",
       "│ ---        ┆ --- │\n",
       "│ date       ┆ str │\n",
       "╞════════════╪═════╡\n",
       "│ 2010-10-10 ┆ yy  │\n",
       "│ 2077-08-08 ┆ xx  │\n",
       "└────────────┴─────┘"
      ]
     },
     "execution_count": 7,
     "metadata": {},
     "output_type": "execute_result"
    }
   ],
   "source": [
    "df1.sql(\"SELECT c, b FROM self WHERE a > 1\")"
   ]
  },
  {
   "cell_type": "code",
   "execution_count": 8,
   "id": "ac43b49e",
   "metadata": {},
   "outputs": [
    {
     "data": {
      "text/html": [
       "<div><style>\n",
       ".dataframe > thead > tr,\n",
       ".dataframe > tbody > tr {\n",
       "  text-align: right;\n",
       "  white-space: pre-wrap;\n",
       "}\n",
       "</style>\n",
       "<small>shape: (3, 5)</small><table border=\"1\" class=\"dataframe\"><thead><tr><th>a</th><th>a_is_even</th><th>b_b</th><th>year</th><th>zero</th></tr><tr><td>i64</td><td>bool</td><td>str</td><td>i32</td><td>f32</td></tr></thead><tbody><tr><td>1</td><td>false</td><td>&quot;zz:zz&quot;</td><td>1999</td><td>0.0</td></tr><tr><td>2</td><td>true</td><td>&quot;yy:yy&quot;</td><td>2010</td><td>0.0</td></tr><tr><td>3</td><td>false</td><td>&quot;xx:xx&quot;</td><td>2077</td><td>0.0</td></tr></tbody></table></div>"
      ],
      "text/plain": [
       "shape: (3, 5)\n",
       "┌─────┬───────────┬───────┬──────┬──────┐\n",
       "│ a   ┆ a_is_even ┆ b_b   ┆ year ┆ zero │\n",
       "│ --- ┆ ---       ┆ ---   ┆ ---  ┆ ---  │\n",
       "│ i64 ┆ bool      ┆ str   ┆ i32  ┆ f32  │\n",
       "╞═════╪═══════════╪═══════╪══════╪══════╡\n",
       "│ 1   ┆ false     ┆ zz:zz ┆ 1999 ┆ 0.0  │\n",
       "│ 2   ┆ true      ┆ yy:yy ┆ 2010 ┆ 0.0  │\n",
       "│ 3   ┆ false     ┆ xx:xx ┆ 2077 ┆ 0.0  │\n",
       "└─────┴───────────┴───────┴──────┴──────┘"
      ]
     },
     "execution_count": 8,
     "metadata": {},
     "output_type": "execute_result"
    }
   ],
   "source": [
    "df1.sql(\n",
    "\n",
    "    query='''\n",
    "\n",
    "        SELECT\n",
    "\n",
    "            a,\n",
    "\n",
    "            (a % 2 == 0) AS a_is_even,\n",
    "\n",
    "            CONCAT_WS(':', b, b) AS b_b,\n",
    "\n",
    "            EXTRACT(year FROM c) AS year,\n",
    "\n",
    "            0::float4 AS \"zero\",\n",
    "\n",
    "        FROM frame\n",
    "\n",
    "    ''',\n",
    "\n",
    "    table_name=\"frame\",\n",
    "\n",
    ")"
   ]
  },
  {
   "cell_type": "code",
   "execution_count": null,
   "id": "3edc4970",
   "metadata": {},
   "outputs": [],
   "source": []
  }
 ],
 "metadata": {
  "kernelspec": {
   "display_name": "Python 3 (ipykernel)",
   "language": "python",
   "name": "python3"
  },
  "language_info": {
   "codemirror_mode": {
    "name": "ipython",
    "version": 3
   },
   "file_extension": ".py",
   "mimetype": "text/x-python",
   "name": "python",
   "nbconvert_exporter": "python",
   "pygments_lexer": "ipython3",
   "version": "3.9.12"
  }
 },
 "nbformat": 4,
 "nbformat_minor": 5
}
