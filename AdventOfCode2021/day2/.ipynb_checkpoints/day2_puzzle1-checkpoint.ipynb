{
 "cells": [
  {
   "cell_type": "code",
   "execution_count": 1,
   "metadata": {},
   "outputs": [],
   "source": [
    "import pandas as pd"
   ]
  },
  {
   "cell_type": "code",
   "execution_count": 2,
   "metadata": {},
   "outputs": [],
   "source": [
    "input = pd.read_csv('input_day2.txt',delimiter=\"\\t\")"
   ]
  },
  {
   "cell_type": "code",
   "execution_count": 3,
   "metadata": {},
   "outputs": [
    {
     "data": {
      "text/html": [
       "<div>\n",
       "<style scoped>\n",
       "    .dataframe tbody tr th:only-of-type {\n",
       "        vertical-align: middle;\n",
       "    }\n",
       "\n",
       "    .dataframe tbody tr th {\n",
       "        vertical-align: top;\n",
       "    }\n",
       "\n",
       "    .dataframe thead th {\n",
       "        text-align: right;\n",
       "    }\n",
       "</style>\n",
       "<table border=\"1\" class=\"dataframe\">\n",
       "  <thead>\n",
       "    <tr style=\"text-align: right;\">\n",
       "      <th></th>\n",
       "      <th>directions</th>\n",
       "    </tr>\n",
       "  </thead>\n",
       "  <tbody>\n",
       "    <tr>\n",
       "      <th>0</th>\n",
       "      <td>forward 8</td>\n",
       "    </tr>\n",
       "    <tr>\n",
       "      <th>1</th>\n",
       "      <td>forward 3</td>\n",
       "    </tr>\n",
       "    <tr>\n",
       "      <th>2</th>\n",
       "      <td>down 8</td>\n",
       "    </tr>\n",
       "    <tr>\n",
       "      <th>3</th>\n",
       "      <td>forward 4</td>\n",
       "    </tr>\n",
       "    <tr>\n",
       "      <th>4</th>\n",
       "      <td>down 2</td>\n",
       "    </tr>\n",
       "  </tbody>\n",
       "</table>\n",
       "</div>"
      ],
      "text/plain": [
       "  directions\n",
       "0  forward 8\n",
       "1  forward 3\n",
       "2     down 8\n",
       "3  forward 4\n",
       "4     down 2"
      ]
     },
     "execution_count": 3,
     "metadata": {},
     "output_type": "execute_result"
    }
   ],
   "source": [
    "input.head()"
   ]
  },
  {
   "cell_type": "code",
   "execution_count": 5,
   "metadata": {},
   "outputs": [
    {
     "name": "stdout",
     "output_type": "stream",
     "text": [
      "['forward', '3']\n"
     ]
    }
   ],
   "source": [
    "print(input['directions'].iloc[1].split())"
   ]
  },
  {
   "cell_type": "code",
   "execution_count": 11,
   "metadata": {},
   "outputs": [
    {
     "name": "stdout",
     "output_type": "stream",
     "text": [
      "[['forward', '8'], ['forward', '3'], ['down', '8'], ['forward', '4'], ['down', '2'], ['down', '4'], ['down', '8'], ['down', '4'], ['down', '7'], ['up', '4'], ['down', '6'], ['down', '2'], ['forward', '7'], ['down', '5'], ['down', '7'], ['down', '5'], ['forward', '8'], ['forward', '4'], ['forward', '3'], ['down', '4'], ['forward', '2'], ['up', '3'], ['up', '6'], ['forward', '7'], ['down', '4'], ['down', '2'], ['forward', '7'], ['up', '3'], ['forward', '8'], ['down', '4'], ['down', '6'], ['forward', '3'], ['forward', '9'], ['down', '9'], ['down', '6'], ['forward', '8'], ['up', '8'], ['forward', '3'], ['down', '8'], ['down', '4'], ['forward', '7'], ['forward', '3'], ['up', '9'], ['down', '8'], ['forward', '7'], ['forward', '5'], ['forward', '3'], ['down', '1'], ['down', '4'], ['forward', '1'], ['down', '6'], ['forward', '9'], ['up', '2'], ['forward', '3'], ['down', '2'], ['down', '1'], ['up', '5'], ['down', '8'], ['down', '7'], ['down', '5'], ['down', '9'], ['up', '7'], ['forward', '4'], ['down', '9'], ['down', '8'], ['down', '4'], ['forward', '3'], ['down', '1'], ['up', '8'], ['down', '1'], ['down', '8'], ['forward', '4'], ['up', '1'], ['forward', '7'], ['down', '6'], ['down', '2'], ['forward', '3'], ['down', '9'], ['forward', '9'], ['forward', '4'], ['down', '1'], ['up', '6'], ['down', '1'], ['up', '2'], ['down', '4'], ['down', '9'], ['down', '7'], ['forward', '5'], ['down', '3'], ['up', '9'], ['forward', '4'], ['up', '5'], ['down', '9'], ['forward', '1'], ['forward', '7'], ['forward', '1'], ['down', '8'], ['forward', '5'], ['down', '2'], ['down', '4'], ['down', '3'], ['forward', '4'], ['down', '9'], ['up', '7'], ['up', '1'], ['forward', '4'], ['up', '2'], ['forward', '4'], ['forward', '4'], ['down', '1'], ['down', '5'], ['forward', '6'], ['forward', '1'], ['down', '6'], ['forward', '8'], ['forward', '8'], ['forward', '6'], ['down', '3'], ['forward', '3'], ['forward', '1'], ['forward', '5'], ['forward', '7'], ['down', '5'], ['forward', '8'], ['down', '7'], ['down', '8'], ['forward', '7'], ['forward', '8'], ['down', '7'], ['forward', '7'], ['up', '2'], ['up', '9'], ['down', '1'], ['forward', '1'], ['forward', '6'], ['up', '3'], ['up', '6'], ['down', '2'], ['down', '4'], ['forward', '2'], ['up', '8'], ['forward', '5'], ['up', '9'], ['up', '5'], ['down', '2'], ['forward', '5'], ['forward', '9'], ['up', '3'], ['forward', '7'], ['down', '4'], ['down', '3'], ['down', '2'], ['forward', '9'], ['up', '4'], ['down', '7'], ['down', '1'], ['forward', '9'], ['forward', '3'], ['up', '4'], ['forward', '1'], ['up', '6'], ['forward', '5'], ['forward', '2'], ['forward', '2'], ['down', '9'], ['forward', '1'], ['up', '7'], ['forward', '3'], ['down', '1'], ['down', '5'], ['up', '8'], ['down', '5'], ['forward', '5'], ['forward', '5'], ['down', '9'], ['up', '5'], ['forward', '8'], ['up', '9'], ['down', '1'], ['forward', '1'], ['down', '7'], ['up', '3'], ['down', '9'], ['down', '9'], ['down', '5'], ['up', '6'], ['forward', '7'], ['down', '5'], ['down', '2'], ['down', '5'], ['forward', '3'], ['forward', '2'], ['forward', '9'], ['forward', '5'], ['forward', '6'], ['up', '7'], ['up', '7'], ['forward', '4'], ['forward', '2'], ['up', '4'], ['up', '6'], ['down', '8'], ['up', '9'], ['up', '5'], ['down', '8'], ['forward', '4'], ['up', '9'], ['forward', '8'], ['forward', '3'], ['down', '6'], ['down', '6'], ['down', '7'], ['down', '6'], ['forward', '7'], ['up', '5'], ['down', '2'], ['down', '5'], ['forward', '2'], ['up', '5'], ['forward', '7'], ['down', '5'], ['up', '4'], ['up', '2'], ['forward', '2'], ['forward', '9'], ['forward', '5'], ['forward', '8'], ['up', '4'], ['forward', '6'], ['up', '7'], ['forward', '5'], ['down', '2'], ['down', '3'], ['down', '8'], ['up', '2'], ['down', '2'], ['up', '1'], ['up', '7'], ['down', '1'], ['down', '6'], ['down', '9'], ['down', '7'], ['forward', '8'], ['up', '8'], ['up', '9'], ['down', '9'], ['forward', '6'], ['forward', '6'], ['down', '6'], ['forward', '3'], ['forward', '4'], ['forward', '6'], ['forward', '7'], ['down', '5'], ['down', '8'], ['forward', '7'], ['forward', '9'], ['down', '4'], ['up', '9'], ['forward', '8'], ['down', '6'], ['down', '1'], ['down', '2'], ['forward', '4'], ['down', '5'], ['up', '1'], ['forward', '1'], ['down', '6'], ['forward', '4'], ['forward', '2'], ['forward', '6'], ['down', '8'], ['up', '2'], ['up', '8'], ['forward', '3'], ['down', '6'], ['forward', '7'], ['down', '1'], ['forward', '1'], ['forward', '8'], ['down', '8'], ['down', '8'], ['down', '2'], ['forward', '8'], ['down', '4'], ['up', '8'], ['down', '6'], ['forward', '2'], ['down', '5'], ['up', '3'], ['up', '1'], ['down', '2'], ['forward', '4'], ['up', '7'], ['forward', '2'], ['up', '9'], ['forward', '1'], ['down', '5'], ['forward', '3'], ['up', '9'], ['up', '4'], ['down', '4'], ['up', '6'], ['down', '1'], ['forward', '9'], ['up', '5'], ['forward', '5'], ['up', '4'], ['down', '6'], ['forward', '2'], ['up', '6'], ['forward', '5'], ['forward', '5'], ['down', '4'], ['up', '7'], ['forward', '2'], ['down', '9'], ['down', '8'], ['down', '7'], ['forward', '4'], ['forward', '7'], ['down', '4'], ['forward', '9'], ['up', '2'], ['forward', '1'], ['up', '4'], ['down', '8'], ['forward', '9'], ['up', '2'], ['up', '5'], ['down', '7'], ['up', '6'], ['forward', '7'], ['up', '1'], ['forward', '3'], ['down', '3'], ['down', '2'], ['down', '6'], ['down', '6'], ['forward', '3'], ['down', '2'], ['down', '2'], ['down', '5'], ['down', '4'], ['down', '6'], ['down', '2'], ['forward', '7'], ['down', '6'], ['forward', '4'], ['down', '5'], ['down', '7'], ['down', '3'], ['forward', '2'], ['forward', '8'], ['forward', '1'], ['up', '6'], ['down', '8'], ['down', '4'], ['up', '5'], ['forward', '5'], ['down', '7'], ['forward', '5'], ['forward', '8'], ['forward', '7'], ['down', '8'], ['down', '5'], ['down', '3'], ['up', '2'], ['forward', '8'], ['forward', '7'], ['down', '6'], ['up', '1'], ['down', '9'], ['down', '3'], ['down', '7'], ['down', '2'], ['forward', '9'], ['forward', '2'], ['forward', '4'], ['forward', '8'], ['forward', '3'], ['forward', '2'], ['down', '3'], ['down', '8'], ['up', '7'], ['down', '7'], ['down', '1'], ['forward', '8'], ['down', '2'], ['up', '4'], ['forward', '9'], ['down', '6'], ['forward', '5'], ['forward', '8'], ['forward', '1'], ['forward', '4'], ['down', '6'], ['down', '1'], ['down', '6'], ['forward', '1'], ['forward', '7'], ['down', '3'], ['down', '3'], ['down', '1'], ['up', '2'], ['down', '6'], ['down', '5'], ['down', '6'], ['forward', '5'], ['forward', '2'], ['forward', '1'], ['forward', '8'], ['up', '5'], ['down', '2'], ['down', '9'], ['down', '9'], ['down', '5'], ['down', '3'], ['up', '6'], ['forward', '2'], ['down', '7'], ['down', '7'], ['down', '2'], ['down', '2'], ['up', '6'], ['forward', '8'], ['forward', '6'], ['forward', '4'], ['down', '1'], ['forward', '7'], ['down', '5'], ['up', '9'], ['forward', '5'], ['down', '4'], ['down', '9'], ['up', '7'], ['forward', '1'], ['up', '3'], ['up', '7'], ['forward', '6'], ['forward', '8'], ['up', '6'], ['up', '3'], ['forward', '4'], ['up', '3'], ['down', '1'], ['forward', '8'], ['forward', '1'], ['up', '3'], ['forward', '7'], ['up', '2'], ['forward', '6'], ['forward', '2'], ['down', '2'], ['down', '9'], ['down', '9'], ['forward', '1'], ['forward', '8'], ['down', '5'], ['forward', '4'], ['forward', '5'], ['forward', '5'], ['down', '9'], ['forward', '8'], ['up', '8'], ['down', '6'], ['down', '2'], ['down', '5'], ['down', '6'], ['up', '9'], ['up', '8'], ['down', '4'], ['down', '9'], ['up', '4'], ['forward', '6'], ['forward', '1'], ['forward', '3'], ['up', '4'], ['up', '3'], ['forward', '3'], ['forward', '8'], ['down', '1'], ['down', '2'], ['down', '2'], ['forward', '9'], ['forward', '4'], ['up', '2'], ['forward', '7'], ['down', '4'], ['up', '1'], ['forward', '2'], ['forward', '9'], ['forward', '8'], ['down', '4'], ['down', '7'], ['up', '7'], ['down', '1'], ['forward', '3'], ['down', '7'], ['down', '8'], ['up', '2'], ['forward', '2'], ['forward', '8'], ['forward', '4'], ['forward', '4'], ['down', '5'], ['forward', '8'], ['down', '2'], ['up', '7'], ['down', '1'], ['up', '9'], ['up', '5'], ['down', '3'], ['forward', '6'], ['forward', '2'], ['forward', '6'], ['down', '5'], ['down', '6'], ['forward', '9'], ['up', '5'], ['up', '6'], ['down', '4'], ['down', '5'], ['up', '4'], ['down', '6'], ['down', '2'], ['down', '5'], ['down', '4'], ['forward', '7'], ['forward', '6'], ['down', '8'], ['forward', '2'], ['down', '5'], ['down', '7'], ['down', '2'], ['forward', '8'], ['forward', '6'], ['down', '3'], ['forward', '4'], ['up', '6'], ['down', '9'], ['down', '3'], ['forward', '3'], ['forward', '3'], ['down', '9'], ['up', '1'], ['up', '3'], ['forward', '3'], ['forward', '6'], ['forward', '1'], ['forward', '4'], ['forward', '3'], ['forward', '3'], ['forward', '3'], ['down', '6'], ['down', '8'], ['forward', '3'], ['down', '5'], ['forward', '8'], ['forward', '3'], ['down', '4'], ['up', '3'], ['up', '1'], ['down', '7'], ['forward', '7'], ['up', '6'], ['forward', '7'], ['down', '4'], ['down', '7'], ['up', '9'], ['down', '9'], ['forward', '8'], ['down', '5'], ['down', '2'], ['forward', '9'], ['down', '3'], ['forward', '4'], ['forward', '4'], ['forward', '4'], ['forward', '6'], ['down', '1'], ['up', '5'], ['forward', '8'], ['down', '6'], ['forward', '5'], ['up', '5'], ['up', '5'], ['down', '2'], ['down', '9'], ['down', '7'], ['up', '3'], ['up', '7'], ['up', '6'], ['forward', '2'], ['forward', '6'], ['up', '9'], ['forward', '5'], ['forward', '2'], ['up', '4'], ['down', '4'], ['down', '5'], ['forward', '7'], ['down', '5'], ['down', '7'], ['forward', '3'], ['down', '6'], ['down', '1'], ['forward', '6'], ['up', '5'], ['up', '6'], ['up', '3'], ['down', '9'], ['up', '7'], ['forward', '9'], ['down', '3'], ['forward', '4'], ['up', '2'], ['forward', '9'], ['down', '2'], ['up', '2'], ['up', '5'], ['forward', '1'], ['down', '8'], ['down', '1'], ['down', '8'], ['up', '2'], ['forward', '9'], ['forward', '1'], ['up', '2'], ['down', '1'], ['up', '1'], ['forward', '2'], ['down', '7'], ['forward', '9'], ['up', '1'], ['forward', '8'], ['down', '5'], ['down', '5'], ['down', '9'], ['forward', '5'], ['down', '7'], ['down', '1'], ['forward', '9'], ['down', '5'], ['forward', '9'], ['forward', '9'], ['down', '6'], ['down', '5'], ['down', '6'], ['forward', '3'], ['down', '4'], ['up', '8'], ['down', '6'], ['up', '4'], ['down', '9'], ['up', '1'], ['up', '2'], ['up', '8'], ['forward', '6'], ['down', '7'], ['down', '4'], ['down', '9'], ['down', '3'], ['forward', '9'], ['down', '5'], ['forward', '6'], ['down', '6'], ['forward', '7'], ['down', '9'], ['forward', '2'], ['forward', '2'], ['down', '8'], ['down', '7'], ['forward', '5'], ['down', '8'], ['forward', '6'], ['down', '1'], ['forward', '6'], ['forward', '7'], ['forward', '3'], ['forward', '2'], ['forward', '1'], ['forward', '1'], ['down', '9'], ['forward', '7'], ['up', '9'], ['down', '5'], ['forward', '6'], ['down', '4'], ['down', '2'], ['forward', '4'], ['forward', '3'], ['forward', '9'], ['down', '8'], ['down', '2'], ['forward', '4'], ['down', '8'], ['down', '6'], ['forward', '9'], ['down', '7'], ['forward', '1'], ['up', '1'], ['forward', '3'], ['down', '5'], ['down', '8'], ['up', '6'], ['forward', '9'], ['forward', '4'], ['down', '2'], ['forward', '4'], ['up', '2'], ['forward', '9'], ['down', '5'], ['down', '1'], ['down', '9'], ['forward', '5'], ['down', '9'], ['forward', '1'], ['down', '9'], ['forward', '8'], ['down', '5'], ['forward', '9'], ['forward', '8'], ['up', '8'], ['down', '7'], ['up', '9'], ['down', '5'], ['up', '9'], ['forward', '7'], ['forward', '7'], ['forward', '1'], ['up', '2'], ['up', '2'], ['forward', '6'], ['up', '5'], ['up', '5'], ['down', '7'], ['forward', '2'], ['up', '8'], ['forward', '8'], ['down', '8'], ['forward', '7'], ['forward', '8'], ['down', '7'], ['down', '8'], ['forward', '4'], ['forward', '2'], ['down', '8'], ['up', '4'], ['down', '1'], ['up', '7'], ['forward', '4'], ['forward', '3'], ['down', '6'], ['up', '6'], ['forward', '6'], ['down', '1'], ['forward', '3'], ['down', '6'], ['forward', '6'], ['up', '3'], ['up', '1'], ['up', '5'], ['down', '1'], ['up', '9'], ['down', '8'], ['forward', '7'], ['forward', '9'], ['up', '2'], ['forward', '2'], ['forward', '6'], ['up', '2'], ['up', '3'], ['forward', '1'], ['forward', '2'], ['forward', '8'], ['down', '6'], ['forward', '5'], ['down', '8'], ['forward', '2'], ['up', '1'], ['down', '1'], ['down', '3'], ['forward', '9'], ['down', '6'], ['down', '1'], ['down', '6'], ['down', '6'], ['down', '6'], ['down', '1'], ['up', '6'], ['down', '6'], ['forward', '6'], ['down', '5'], ['down', '2'], ['up', '5'], ['forward', '7'], ['down', '3'], ['forward', '9'], ['forward', '2'], ['down', '2'], ['down', '1'], ['down', '9'], ['up', '3'], ['down', '2'], ['forward', '2'], ['forward', '6'], ['down', '4'], ['up', '7'], ['up', '3'], ['up', '9'], ['forward', '3'], ['forward', '8'], ['forward', '9'], ['forward', '4'], ['forward', '2'], ['up', '7'], ['up', '5'], ['down', '9'], ['forward', '1'], ['up', '1'], ['down', '7'], ['forward', '5'], ['forward', '5'], ['down', '3'], ['forward', '1'], ['forward', '6'], ['up', '8'], ['down', '4'], ['down', '2'], ['up', '2'], ['forward', '2'], ['forward', '1'], ['down', '4'], ['up', '9'], ['down', '1'], ['down', '4'], ['down', '6'], ['forward', '3'], ['forward', '7'], ['down', '4'], ['up', '8'], ['down', '6'], ['forward', '7'], ['forward', '4'], ['up', '2'], ['down', '8'], ['forward', '5'], ['down', '1'], ['forward', '7'], ['down', '1'], ['up', '6'], ['down', '9'], ['forward', '3'], ['forward', '1'], ['up', '2'], ['up', '4'], ['forward', '8'], ['forward', '1'], ['up', '8'], ['forward', '3'], ['forward', '7'], ['up', '9'], ['up', '6'], ['up', '9'], ['down', '9'], ['down', '5'], ['forward', '8'], ['forward', '7'], ['down', '5'], ['forward', '7'], ['forward', '6'], ['forward', '8'], ['up', '4'], ['forward', '6'], ['down', '6'], ['up', '8'], ['down', '7'], ['up', '8'], ['forward', '6'], ['forward', '7'], ['down', '4'], ['forward', '4'], ['up', '2'], ['forward', '9'], ['down', '6'], ['down', '2'], ['down', '8'], ['forward', '6'], ['up', '2'], ['up', '8'], ['forward', '2'], ['down', '3'], ['forward', '7'], ['forward', '6'], ['down', '9'], ['up', '1'], ['forward', '1'], ['down', '8'], ['down', '8'], ['forward', '4'], ['forward', '4'], ['up', '6'], ['down', '8'], ['up', '8'], ['forward', '1'], ['forward', '1'], ['down', '6'], ['up', '3'], ['up', '7'], ['forward', '1'], ['forward', '1'], ['up', '2'], ['forward', '2'], ['down', '4'], ['up', '8'], ['forward', '1'], ['up', '7'], ['down', '2'], ['forward', '2'], ['down', '1'], ['forward', '1'], ['down', '4'], ['forward', '4'], ['forward', '8'], ['up', '5'], ['down', '6'], ['up', '8'], ['forward', '4'], ['down', '3'], ['up', '6'], ['forward', '3'], ['forward', '4'], ['down', '5'], ['forward', '1'], ['forward', '6'], ['forward', '4'], ['forward', '1'], ['down', '7'], ['down', '4'], ['forward', '2'], ['down', '6'], ['forward', '3'], ['down', '5'], ['forward', '3'], ['forward', '4'], ['forward', '4'], ['forward', '9'], ['down', '5'], ['forward', '7'], ['forward', '7'], ['forward', '9'], ['down', '1'], ['up', '6'], ['forward', '1'], ['down', '9'], ['forward', '3'], ['down', '7'], ['up', '8'], ['up', '6'], ['down', '7'], ['forward', '2'], ['down', '9'], ['forward', '9'], ['forward', '6'], ['down', '9'], ['forward', '6'], ['down', '8'], ['forward', '1'], ['up', '6'], ['down', '1'], ['forward', '6'], ['down', '9'], ['forward', '6'], ['forward', '7'], ['forward', '3'], ['forward', '8'], ['forward', '5'], ['forward', '8'], ['down', '9'], ['down', '2'], ['forward', '3'], ['down', '3'], ['up', '4'], ['down', '4'], ['down', '3'], ['forward', '3'], ['forward', '3'], ['down', '5'], ['forward', '5'], ['forward', '1'], ['down', '9'], ['down', '3'], ['up', '7'], ['forward', '9'], ['up', '1'], ['down', '1'], ['down', '6'], ['up', '1'], ['forward', '2']]\n"
     ]
    }
   ],
   "source": [
    "new_input = []\n",
    "for i in range(len(input)):\n",
    "    input_split = input['directions'].iloc[i].split()\n",
    "    new_input.append(input_split)\n",
    "print(new_input)"
   ]
  },
  {
   "cell_type": "code",
   "execution_count": 14,
   "metadata": {},
   "outputs": [
    {
     "data": {
      "text/plain": [
       "list"
      ]
     },
     "execution_count": 14,
     "metadata": {},
     "output_type": "execute_result"
    }
   ],
   "source": [
    "type(new_input)"
   ]
  },
  {
   "cell_type": "code",
   "execution_count": 15,
   "metadata": {},
   "outputs": [],
   "source": [
    "df = pd.DataFrame.from_records(new_input)"
   ]
  },
  {
   "cell_type": "code",
   "execution_count": 16,
   "metadata": {},
   "outputs": [
    {
     "data": {
      "text/plain": [
       "pandas.core.frame.DataFrame"
      ]
     },
     "execution_count": 16,
     "metadata": {},
     "output_type": "execute_result"
    }
   ],
   "source": [
    "type(df)"
   ]
  },
  {
   "cell_type": "code",
   "execution_count": 17,
   "metadata": {},
   "outputs": [
    {
     "data": {
      "text/html": [
       "<div>\n",
       "<style scoped>\n",
       "    .dataframe tbody tr th:only-of-type {\n",
       "        vertical-align: middle;\n",
       "    }\n",
       "\n",
       "    .dataframe tbody tr th {\n",
       "        vertical-align: top;\n",
       "    }\n",
       "\n",
       "    .dataframe thead th {\n",
       "        text-align: right;\n",
       "    }\n",
       "</style>\n",
       "<table border=\"1\" class=\"dataframe\">\n",
       "  <thead>\n",
       "    <tr style=\"text-align: right;\">\n",
       "      <th></th>\n",
       "      <th>0</th>\n",
       "      <th>1</th>\n",
       "    </tr>\n",
       "  </thead>\n",
       "  <tbody>\n",
       "    <tr>\n",
       "      <th>0</th>\n",
       "      <td>forward</td>\n",
       "      <td>8</td>\n",
       "    </tr>\n",
       "    <tr>\n",
       "      <th>1</th>\n",
       "      <td>forward</td>\n",
       "      <td>3</td>\n",
       "    </tr>\n",
       "    <tr>\n",
       "      <th>2</th>\n",
       "      <td>down</td>\n",
       "      <td>8</td>\n",
       "    </tr>\n",
       "    <tr>\n",
       "      <th>3</th>\n",
       "      <td>forward</td>\n",
       "      <td>4</td>\n",
       "    </tr>\n",
       "    <tr>\n",
       "      <th>4</th>\n",
       "      <td>down</td>\n",
       "      <td>2</td>\n",
       "    </tr>\n",
       "  </tbody>\n",
       "</table>\n",
       "</div>"
      ],
      "text/plain": [
       "         0  1\n",
       "0  forward  8\n",
       "1  forward  3\n",
       "2     down  8\n",
       "3  forward  4\n",
       "4     down  2"
      ]
     },
     "execution_count": 17,
     "metadata": {},
     "output_type": "execute_result"
    }
   ],
   "source": [
    "df.head()"
   ]
  },
  {
   "cell_type": "code",
   "execution_count": null,
   "metadata": {},
   "outputs": [],
   "source": []
  },
  {
   "cell_type": "code",
   "execution_count": null,
   "metadata": {},
   "outputs": [],
   "source": []
  }
 ],
 "metadata": {
  "kernelspec": {
   "display_name": "Python 3",
   "language": "python",
   "name": "python3"
  },
  "language_info": {
   "codemirror_mode": {
    "name": "ipython",
    "version": 3
   },
   "file_extension": ".py",
   "mimetype": "text/x-python",
   "name": "python",
   "nbconvert_exporter": "python",
   "pygments_lexer": "ipython3",
   "version": "3.8.5"
  }
 },
 "nbformat": 4,
 "nbformat_minor": 4
}
